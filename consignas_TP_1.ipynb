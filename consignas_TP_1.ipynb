{
 "cells": [
  {
   "cell_type": "markdown",
   "metadata": {},
   "source": [
    "# Diplodatos 2025\n",
    "## M18: Lectura Distante de Canciones Argentinas\n",
    "### El proyecto\n",
    "\n",
    "Este proyecto busca ofrecer un primer acercamiento al procesamiento del lenguaje natural (NLP), el área del machine learning que se encarga del lenguaje. Para eso, vamos a usar como \"excusa\" un dataset con alrededor de 30.000 letras de canciones argentinas. También se puede pensar al revés: el objetivo principal es hacer un análisis cultural con datos y la herramienta indicada para eso es el NLP.\n",
    "\n",
    "En la práctica, el énfasis depende de ustedes: pueden tratar de entrenar un modelo muy efectivo, usando las técnicas más sofisticadas que veamos; o pueden entrenar modelos sencillos pero más interpretables, que permitan \"generar conocimiento\".\n",
    "\n",
    "### \"Lectura distante\"\n",
    "Este es un término acuñado por Franco Moretti en un ensayo del 2000, titulado [\"Conjectures on World Literature\"](https://warwick.ac.uk/fac/arts/english/currentstudents/undergraduates/modules/fulllist/special/globalnovel/moretti-conjectures-nlr_1.pdf). Moretti es un especialista en literaturas comparadas y pionero de las \"digital humanities\" que a la vuelta del siglo pasado entendió que para estudiar realmente el sistema literario mundial sin restringirse a un puñado de \"clásicos\" no alcanza con \"leer más\", sino que es necesario desarrollar nuevos métodos. Lo que él propone es un tipo de lectura (o de no-lectura) llamada \"distant reading\", que consiste en analizar conjuntos masivos de textos usando las herramientas de la estadística. O sea, ya no leemos detalladamente una obra en particular tratando de interpretar su significado -como en la tradición hermenéutica- sino que tomamos como objeto de estudio un corpus de textos del cual extraemos métricas de distinto tipo.\n",
    "\n",
    "### Los trabajos\n",
    "- Para el TP 1, vamos a hacer un análisis exploratorio de los datos más bien clásico. También vamos a elegir la variable \"target\" que va a guiar el trabajo de los demás TPs.\n",
    "- Para el TP 2, vamos a llevar el análisis un poco más allá, poniendo en práctica conceptos como \"bolsa de palabras\", \"tokenización\" y \"TF-IDF\". Vamos a convertir el texto en vectores y estos vectores nos van a servir para hacer un modelado de tópicos (LDA), y también para entrenar los modelos del TP 3.\n",
    "- Este TP es más técnico: acá vamos a entrenar modelos con distintos parámetros y distintos tipos de vectorización, y vamos a comparar los resultados en términos de performance e interpretabilidad. También se va a poder optar por un clustering."
   ]
  },
  {
   "cell_type": "markdown",
   "metadata": {},
   "source": [
    "### Introducción al dataset"
   ]
  },
  {
   "cell_type": "markdown",
   "metadata": {},
   "source": [
    "El dataset contiene letras de canciones extraídas del sitio web La Cuerda (https://lacuerda.net/), junto con información proveniente de la api de Spotify: https://api.spotify.com.\n",
    "\n",
    "Las variables son:\n",
    "\n",
    "- **song_name**: El nombre del tema.\n",
    "- **artist_name**: El nombre del artista.\n",
    "- **lyrics**: La letra del tema tal como fue subida a La Cuerda.\n",
    "- **estilo**: El estilo o \"género\" del tema. Puede ser \"bal\" (balada), \"can\" (cantautor), \"gru\" (grupero), \"pop\", \"rel\" (religioso), \"rok\" (rock), \"rom\" (romántico), \"tra\" (tradicional), \"tro\" (tropical).\n",
    "- **album**: El nombre del álbum (Spotify).\n",
    "- **release_date**: Fecha de lanzamiento del álbum (Spotify).\n",
    "- **track_name**: El nombre del tema según la api de Spotify (puede no coincidir).\n",
    "- **duration_ms**: La duración del tema en milisegundos (Spotify).\n",
    "- **popularity**: La popularidad del tema según el algoritmo de Spotify (https://developer.spotify.com/documentation/web-api/reference/get-an-artists-top-tracks)."
   ]
  },
  {
   "cell_type": "code",
   "execution_count": 60,
   "metadata": {},
   "outputs": [
    {
     "data": {
      "text/html": [
       "<div>\n",
       "<style scoped>\n",
       "    .dataframe tbody tr th:only-of-type {\n",
       "        vertical-align: middle;\n",
       "    }\n",
       "\n",
       "    .dataframe tbody tr th {\n",
       "        vertical-align: top;\n",
       "    }\n",
       "\n",
       "    .dataframe thead th {\n",
       "        text-align: right;\n",
       "    }\n",
       "</style>\n",
       "<table border=\"1\" class=\"dataframe\">\n",
       "  <thead>\n",
       "    <tr style=\"text-align: right;\">\n",
       "      <th></th>\n",
       "      <th>song_name</th>\n",
       "      <th>artist_name</th>\n",
       "      <th>lyrics</th>\n",
       "      <th>estilo</th>\n",
       "      <th>song_url</th>\n",
       "      <th>album</th>\n",
       "      <th>release_date</th>\n",
       "      <th>track_name</th>\n",
       "      <th>duration_ms</th>\n",
       "      <th>popularity</th>\n",
       "    </tr>\n",
       "  </thead>\n",
       "  <tbody>\n",
       "    <tr>\n",
       "      <th>0</th>\n",
       "      <td>A Mis Amigos</td>\n",
       "      <td>Alberto Cortez</td>\n",
       "      <td>A MIS AMIGOS LES ADEUDO LA TERNURA&lt;br&gt;Y LAS PA...</td>\n",
       "      <td>bal</td>\n",
       "      <td>https://acordes.lacuerda.net/alberto_cortez/a_...</td>\n",
       "      <td>Lo Cortez No Quita Lo Cabral (En Vivo)</td>\n",
       "      <td>1994-06-09</td>\n",
       "      <td>A Mis Amigos - En Vivo</td>\n",
       "      <td>311600.0</td>\n",
       "      <td>37.0</td>\n",
       "    </tr>\n",
       "    <tr>\n",
       "      <th>1</th>\n",
       "      <td>A Partir De Maniana</td>\n",
       "      <td>Alberto Cortez</td>\n",
       "      <td>A partir de mañana empezaré a vivir la mitad d...</td>\n",
       "      <td>bal</td>\n",
       "      <td>https://acordes.lacuerda.net/alberto_cortez/a_...</td>\n",
       "      <td>NaN</td>\n",
       "      <td>NaN</td>\n",
       "      <td>NaN</td>\n",
       "      <td>NaN</td>\n",
       "      <td>NaN</td>\n",
       "    </tr>\n",
       "    <tr>\n",
       "      <th>2</th>\n",
       "      <td>Amor Desolado</td>\n",
       "      <td>Alberto Cortez</td>\n",
       "      <td>Yo puse el esfuerzo y ella la desgana&lt;br&gt;yo el...</td>\n",
       "      <td>bal</td>\n",
       "      <td>https://acordes.lacuerda.net/alberto_cortez/am...</td>\n",
       "      <td>Grandes Éxitos: Alberto Cortez</td>\n",
       "      <td>2005-03-21</td>\n",
       "      <td>El amor desolado</td>\n",
       "      <td>242066.0</td>\n",
       "      <td>32.0</td>\n",
       "    </tr>\n",
       "  </tbody>\n",
       "</table>\n",
       "</div>"
      ],
      "text/plain": [
       "             song_name     artist_name  \\\n",
       "0         A Mis Amigos  Alberto Cortez   \n",
       "1  A Partir De Maniana  Alberto Cortez   \n",
       "2        Amor Desolado  Alberto Cortez   \n",
       "\n",
       "                                              lyrics estilo  \\\n",
       "0  A MIS AMIGOS LES ADEUDO LA TERNURA<br>Y LAS PA...    bal   \n",
       "1  A partir de mañana empezaré a vivir la mitad d...    bal   \n",
       "2  Yo puse el esfuerzo y ella la desgana<br>yo el...    bal   \n",
       "\n",
       "                                            song_url  \\\n",
       "0  https://acordes.lacuerda.net/alberto_cortez/a_...   \n",
       "1  https://acordes.lacuerda.net/alberto_cortez/a_...   \n",
       "2  https://acordes.lacuerda.net/alberto_cortez/am...   \n",
       "\n",
       "                                    album release_date  \\\n",
       "0  Lo Cortez No Quita Lo Cabral (En Vivo)   1994-06-09   \n",
       "1                                     NaN          NaN   \n",
       "2          Grandes Éxitos: Alberto Cortez   2005-03-21   \n",
       "\n",
       "               track_name  duration_ms  popularity  \n",
       "0  A Mis Amigos - En Vivo     311600.0        37.0  \n",
       "1                     NaN          NaN         NaN  \n",
       "2        El amor desolado     242066.0        32.0  "
      ]
     },
     "execution_count": 60,
     "metadata": {},
     "output_type": "execute_result"
    }
   ],
   "source": [
    "import pandas as pd\n",
    "\n",
    "df = pd.read_csv(\"dataset.csv\", index_col = 0)\n",
    "df.head(3)"
   ]
  },
  {
   "cell_type": "markdown",
   "metadata": {},
   "source": [
    "### Consignas TP 1"
   ]
  },
  {
   "cell_type": "markdown",
   "metadata": {},
   "source": [
    "1) Descripción del dataset.\n",
    "    - Tamaño.\n",
    "    - Registros duplicados (duplicados reales, falsos duplicados).\n",
    "    - Tipos de variables.\n",
    "\n",
    "2) Descripción de las variables (exceptuando `song_url`).\n",
    "    - Medidas descriptivas.\n",
    "    - Distribución (graficar).\n",
    "    - ¿Hay valores nulos? ¿Qué porcentaje representan?\n",
    "    - ¿Hay outliers? ¿Cuáles son? ¿Se trata de errores, o a qué pueden deberse los valores extremos?\n",
    "\n",
    "3) Elegir una variable target, que puede ser: `estilo`, `release_date` y `popularity`. En función de esta variable se va a hacer el análisis bivariado, y se va a ajustar el modelo de clasificación del TP 3. Luego:\n",
    "    - Justificar la elección de dicha variable. ¿Qué interés le ven?\n",
    "    - Hacer un análisis bivariado para la variable elegida junto con una numérica y una categórica. Para numérica vs. numérica calcular correlación de Pearson y hacer un scatter plot. Para categórica vs. numérica, reportar en una tabla media, mediana y desvío estándar para cada categoría, y hacer un box-plot. Para categórica vs. categórica, hacer una tabla de contingencia y un gráfico de barras apiladas. Interpretar sucintamente los resultados.\n",
    "    - Calcular el [type token ratio](https://www.reuneker.nl/files/ld/#) promedio usando una ventana deslizante de tamaño 30 y analizar la relación entre esta nueva variable y la variable target. ¡Ojo! Asegurarse de que la variable `lyrics` esté razonablemente limpia antes de hacer el análisis (esto supone eliminar registros con letras nulas, borrar términos o versos enteros que no formen parte de la letra, etc.). El criterio de limpieza va a ser fundamental para los próximos TPs. Pueden crear variables como la longitud de la letra para detectar errores en el dataset. ¿Sirve el TTR como método de detección de outliers? \n",
    "    - (Opcional) Hacer lo mismo calculando otras métricas a partir de las canciones: longitud promedio del verso, longitud del título, longitud promedio de cada palabra.\n",
    "\n",
    "4) Elegir el resultado más significativo que surja del análisis y buscar la manera más clara de presentarlo (gráfico + descripción). Indicar si los resultados eran o no previsibles."
   ]
  },
  {
   "cell_type": "markdown",
   "metadata": {},
   "source": [
    "### Fechas importantes\n",
    "- 30/06: TP 1\n",
    "- 25/07: TP 2\n",
    "- 11/08: Video intermedio\n",
    "- 15/09: TP 3\n",
    "- 29/09: Video final\n",
    "- 05/12 y 06/12: Jornada de presentación de videos finales\n",
    "\n",
    "**Las entregas se realizan vía campus.**"
   ]
  },
  {
   "cell_type": "markdown",
   "metadata": {},
   "source": [
    "### Papers para chusmear"
   ]
  },
  {
   "cell_type": "markdown",
   "metadata": {},
   "source": [
    "- [\"Rhyme and Style Features for Musical Genre Classification by Song Lyrics\" (2008)](https://www.researchgate.net/profile/Rudolf-Mayer/publication/220723682_Rhyme_and_Style_Features_for_Musical_Genre_Classification_by_Song_Lyrics/links/54b7c18d0cf2e68eb2804a33/Rhyme-and-Style-Features-for-Musical-Genre-Classification-by-Song-Lyrics.pdf). Paper que prueba la efectividad de diferentes features (temáticas, estilométricas, sintácticas, rítmicas) para predecir el género de una canción. Entre ellas usan una variante del TTR. De acá se pueden sacar ideas para el TP 2.\n",
    "- [\"The Language of Lyrics: An Analysis of Popular _Billboard_ Songs Across Conditions of Social and Economic Threat\" (2009)](https://sci-hub.se/https://journals.sagepub.com/doi/10.1177/0261927x09335259). Paper que analiza las letras de los temas nº1 del ranking de la revista _Billboard_ desde 1955 a 2003. La hipótesis que guía este trabajo es que hay una correlación entre la situación social y las temáticas de las canciones. Ellos detectan, por ejemplo, que un aumento en el índice GHTM (General Hard Times Measure) correlaciona positivamente con la cantidad de pronombres en segunda persona y la longitud del verso.\n",
    "- _Falso movimiento. El giro cuantitativo en el estudio de la literatura_, de Franco Moretti (2023, EDUNTREF). Una compilación de ensayos de Moretti traducidos al español."
   ]
  }
 ],
 "metadata": {
  "kernelspec": {
   "display_name": "diplodatos-lacuerda",
   "language": "python",
   "name": "python3"
  },
  "language_info": {
   "codemirror_mode": {
    "name": "ipython",
    "version": 3
   },
   "file_extension": ".py",
   "mimetype": "text/x-python",
   "name": "python",
   "nbconvert_exporter": "python",
   "pygments_lexer": "ipython3",
   "version": "3.10.4"
  }
 },
 "nbformat": 4,
 "nbformat_minor": 2
}
