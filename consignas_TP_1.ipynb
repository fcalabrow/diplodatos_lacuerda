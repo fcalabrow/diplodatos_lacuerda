{
 "cells": [
  {
   "cell_type": "markdown",
   "metadata": {},
   "source": [
    "# Diplodatos 2025\n",
    "## M18: Lectura Distante de Canciones Argentinas"
   ]
  },
  {
   "cell_type": "markdown",
   "metadata": {},
   "source": [
    "- Quién soy, etc.\n",
    "- Lectura distante\n",
    "- Ver La Cuerda\n",
    "- Trabajar sin música\n",
    "- Los estilos (son musicales, pero se mantienen?) - Clasificación / Clustering. Toda categorización es arbitraria\n",
    "- Libertad (más enfocado en lo técnico o en lo interpretativo)"
   ]
  },
  {
   "cell_type": "markdown",
   "metadata": {},
   "source": [
    "### Introducción al dataset"
   ]
  },
  {
   "cell_type": "markdown",
   "metadata": {},
   "source": [
    "El dataset contiene letras de canciones extraídas de https://lacuerda.net/ junto con información proveniente de la api de Spotify: https://api.spotify.com. Las variables son:\n",
    "\n",
    "- **song_name**: El nombre del tema.\n",
    "- **artist_name**: El nombre del artista.\n",
    "- **lyrics**: La letra del tema tal como fue subida a La Cuerda.\n",
    "- **estilo**: El estilo o \"género\" del tema. Puede ser \"bal\" (balada), \"can\" (cantautor), \"gru\" (grupero), \"pop\", \"rel\" (religioso), \"rok\" (rock), \"rom\" (romántico), \"tra\" (tradicional), \"tro\" (tropical).\n",
    "- **album**: El nombre del álbum (Spotify).\n",
    "- **release_date**: Fecha de lanzamiento del álbum (Spotify).\n",
    "- **track_name**: El nombre del tema según la api de Spotify (puede no coincidir).\n",
    "- **duration_ms**: La duración del tema en milisegundos (Spotify).\n",
    "- **popularity**: La popularidad del tema según el algoritmo de Spotify (https://developer.spotify.com/documentation/web-api/reference/get-an-artists-top-tracks)."
   ]
  },
  {
   "cell_type": "code",
   "execution_count": 3,
   "metadata": {},
   "outputs": [
    {
     "data": {
      "text/html": [
       "<div>\n",
       "<style scoped>\n",
       "    .dataframe tbody tr th:only-of-type {\n",
       "        vertical-align: middle;\n",
       "    }\n",
       "\n",
       "    .dataframe tbody tr th {\n",
       "        vertical-align: top;\n",
       "    }\n",
       "\n",
       "    .dataframe thead th {\n",
       "        text-align: right;\n",
       "    }\n",
       "</style>\n",
       "<table border=\"1\" class=\"dataframe\">\n",
       "  <thead>\n",
       "    <tr style=\"text-align: right;\">\n",
       "      <th></th>\n",
       "      <th>song_name</th>\n",
       "      <th>artist_name</th>\n",
       "      <th>lyrics</th>\n",
       "      <th>estilo</th>\n",
       "      <th>song_url</th>\n",
       "      <th>album</th>\n",
       "      <th>release_date</th>\n",
       "      <th>track_name</th>\n",
       "      <th>duration_ms</th>\n",
       "      <th>popularity</th>\n",
       "    </tr>\n",
       "  </thead>\n",
       "  <tbody>\n",
       "    <tr>\n",
       "      <th>0</th>\n",
       "      <td>A Mis Amigos</td>\n",
       "      <td>Alberto Cortez</td>\n",
       "      <td>A MIS AMIGOS LES ADEUDO LA TERNURA&lt;br&gt;Y LAS PA...</td>\n",
       "      <td>bal</td>\n",
       "      <td>https://acordes.lacuerda.net/alberto_cortez/a_...</td>\n",
       "      <td>Lo Cortez No Quita Lo Cabral (En Vivo)</td>\n",
       "      <td>1994-06-09</td>\n",
       "      <td>A Mis Amigos - En Vivo</td>\n",
       "      <td>311600.0</td>\n",
       "      <td>37.0</td>\n",
       "    </tr>\n",
       "    <tr>\n",
       "      <th>1</th>\n",
       "      <td>A Partir De Maniana</td>\n",
       "      <td>Alberto Cortez</td>\n",
       "      <td>A partir de mañana empezaré a vivir la mitad d...</td>\n",
       "      <td>bal</td>\n",
       "      <td>https://acordes.lacuerda.net/alberto_cortez/a_...</td>\n",
       "      <td>NaN</td>\n",
       "      <td>NaN</td>\n",
       "      <td>NaN</td>\n",
       "      <td>NaN</td>\n",
       "      <td>NaN</td>\n",
       "    </tr>\n",
       "    <tr>\n",
       "      <th>2</th>\n",
       "      <td>Amor Desolado</td>\n",
       "      <td>Alberto Cortez</td>\n",
       "      <td>Yo puse el esfuerzo y ella la desgana&lt;br&gt;yo el...</td>\n",
       "      <td>bal</td>\n",
       "      <td>https://acordes.lacuerda.net/alberto_cortez/am...</td>\n",
       "      <td>Grandes Éxitos: Alberto Cortez</td>\n",
       "      <td>2005-03-21</td>\n",
       "      <td>El amor desolado</td>\n",
       "      <td>242066.0</td>\n",
       "      <td>32.0</td>\n",
       "    </tr>\n",
       "  </tbody>\n",
       "</table>\n",
       "</div>"
      ],
      "text/plain": [
       "             song_name     artist_name  \\\n",
       "0         A Mis Amigos  Alberto Cortez   \n",
       "1  A Partir De Maniana  Alberto Cortez   \n",
       "2        Amor Desolado  Alberto Cortez   \n",
       "\n",
       "                                              lyrics estilo  \\\n",
       "0  A MIS AMIGOS LES ADEUDO LA TERNURA<br>Y LAS PA...    bal   \n",
       "1  A partir de mañana empezaré a vivir la mitad d...    bal   \n",
       "2  Yo puse el esfuerzo y ella la desgana<br>yo el...    bal   \n",
       "\n",
       "                                            song_url  \\\n",
       "0  https://acordes.lacuerda.net/alberto_cortez/a_...   \n",
       "1  https://acordes.lacuerda.net/alberto_cortez/a_...   \n",
       "2  https://acordes.lacuerda.net/alberto_cortez/am...   \n",
       "\n",
       "                                    album release_date  \\\n",
       "0  Lo Cortez No Quita Lo Cabral (En Vivo)   1994-06-09   \n",
       "1                                     NaN          NaN   \n",
       "2          Grandes Éxitos: Alberto Cortez   2005-03-21   \n",
       "\n",
       "               track_name  duration_ms  popularity  \n",
       "0  A Mis Amigos - En Vivo     311600.0        37.0  \n",
       "1                     NaN          NaN         NaN  \n",
       "2        El amor desolado     242066.0        32.0  "
      ]
     },
     "execution_count": 3,
     "metadata": {},
     "output_type": "execute_result"
    }
   ],
   "source": [
    "import pandas as pd\n",
    "\n",
    "df = pd.read_csv(\"dataset.csv\", index_col = 0)\n",
    "df.head(3)"
   ]
  },
  {
   "cell_type": "markdown",
   "metadata": {},
   "source": [
    "### Consignas TP 1"
   ]
  },
  {
   "cell_type": "markdown",
   "metadata": {},
   "source": [
    "1) Descripción del dataset.\n",
    "    - Tamaño.\n",
    "    - Registros duplicados (duplicados reales, falsos duplicados).\n",
    "    - Tipos de variables.\n",
    "2) Descripción de las variables (exceptuando `song_url`).\n",
    "    - Medidas descriptivas.\n",
    "    - Distribución (graficar).\n",
    "    - ¿Hay valores nulos? ¿Qué porcentaje representan?\n",
    "    - ¿Hay outliers? ¿Cuáles son? ¿Se trata de errores, o a qué pueden deberse los valores extremos?\n",
    "    - Aspectos relevantes.\n",
    "3) Análisis de correlación / Mediana por grupo.\n",
    "4) ¿Qué opinan de la variable `estilo`? ¿Encuentran cierta homogeneidad? ¿Reagruparían las categorías de alguna manera?\n",
    "\n",
    "**Otras posibles direcciones:**\n",
    "\n",
    "- Análisis cuantitativo de `song_name` y/o `lyrics`.\n",
    "    - Largo promedio en palabras / caracteres / tokens únicos (TTR, riqueza léxica) / extensión del verso agrupando por `estilo` o por `artist_name`. Sugerencia: `df.apply` (útil para el TP 2).\n",
    "    - Aristas con títulos más largos y títulos más cortos. Outliers.\n",
    "    - Correlación de la(s) longitudes con la popularidad.\n",
    "    - Relación entre la longitud y la fecha de lanzamiento.\n",
    "- Repetir análisis pero para un artista específico.\n",
    "- Comparar entre dos artistas."
   ]
  },
  {
   "cell_type": "markdown",
   "metadata": {},
   "source": [
    "### Papers para chusmear"
   ]
  },
  {
   "cell_type": "markdown",
   "metadata": {},
   "source": [
    "- [\"The Language of Lyrics: An Analysis of Popular _Billboard_ Songs Across Conditions of Social and Economic Threat\"](https://sci-hub.se/https://journals.sagepub.com/doi/10.1177/0261927x09335259). Investigadores estadounidenses analizaron las letras de los temas nº1 del ranking de la revista _Billboard_ desde 1955 a 2003.\n",
    "- [\"Procesamiento de Lenguaje Natural aplicado a las ciencias sociales: Detección de tópicos en letras de tango\"](https://ri.conicet.gov.ar/handle/11336/187219). Germán Rosati (CONICET, UNSAM) aplica modelado de tópicos a letras de tango.\n",
    "- [\"El estilo de Charly García Vol. I\"](https://medium.com/factor-data/el-estilo-de-charly-garc%C3%ADa-vol-i-3d01cddadbe1). Germán Rosati y Laia Domenech aplican modelado de tópicos a las letras de Charly."
   ]
  }
 ],
 "metadata": {
  "kernelspec": {
   "display_name": ".venv",
   "language": "python",
   "name": "python3"
  },
  "language_info": {
   "codemirror_mode": {
    "name": "ipython",
    "version": 3
   },
   "file_extension": ".py",
   "mimetype": "text/x-python",
   "name": "python",
   "nbconvert_exporter": "python",
   "pygments_lexer": "ipython3",
   "version": "3.10.4"
  }
 },
 "nbformat": 4,
 "nbformat_minor": 2
}
